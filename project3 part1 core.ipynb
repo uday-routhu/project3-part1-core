{
 "cells": [
  {
   "cell_type": "markdown",
   "id": "b7496187",
   "metadata": {},
   "source": [
    "# Author: Uday Routhu"
   ]
  },
  {
   "cell_type": "markdown",
   "id": "3140ab57",
   "metadata": {},
   "source": [
    "# course of this project:\n",
    "\n",
    "#Part 1: Download several files from IMDB’s movie data set and filter out the subset of moves requested by the stakeholder.\n"
   ]
  },
  {
   "cell_type": "markdown",
   "id": "5f1dffe4",
   "metadata": {},
   "source": [
    "# Imports "
   ]
  },
  {
   "cell_type": "code",
   "execution_count": 1,
   "id": "d9a668f0",
   "metadata": {},
   "outputs": [],
   "source": [
    "import os\n",
    "import pandas as pd\n",
    "import numpy as np"
   ]
  },
  {
   "cell_type": "code",
   "execution_count": 5,
   "id": "c3025e63",
   "metadata": {},
   "outputs": [
    {
     "data": {
      "text/plain": [
       "[]"
      ]
     },
     "execution_count": 5,
     "metadata": {},
     "output_type": "execute_result"
    }
   ],
   "source": [
    "os.makedirs('Data/',exist_ok=True) # Confirm folder created\n",
    "os.listdir(\"Data/\")"
   ]
  },
  {
   "cell_type": "markdown",
   "id": "f8fbfc4f",
   "metadata": {},
   "source": [
    "#  Data Set URL's"
   ]
  },
  {
   "cell_type": "code",
   "execution_count": 3,
   "id": "bbf5741c",
   "metadata": {},
   "outputs": [],
   "source": [
    "basics_url=\"https://datasets.imdbws.com/title.basics.tsv.gz\"\n",
    "title_url=\"https://datasets.imdbws.com/title.ratings.tsv.gz\"\n",
    "aka_url=\"input\\\\title-akas-us-only.csv\""
   ]
  },
  {
   "cell_type": "markdown",
   "id": "bd23e734",
   "metadata": {},
   "source": [
    "# Load Data sets"
   ]
  },
  {
   "cell_type": "code",
   "execution_count": 4,
   "id": "396ac59a-36e0-4caa-95c1-117a2d44070f",
   "metadata": {},
   "outputs": [],
   "source": [
    "# Load the basics data set\n",
    "title_basics = pd.read_csv(basics_url, sep='\\t', low_memory=False)#"
   ]
  },
  {
   "cell_type": "code",
   "execution_count": 6,
   "id": "c840c785-8eea-4edd-a3c6-4c6b81b80e5a",
   "metadata": {},
   "outputs": [],
   "source": [
    "# Load the title_ratings data set\n",
    "title_ratings = pd.read_csv(title_url, sep='\\t', low_memory=False)"
   ]
  },
  {
   "cell_type": "code",
   "execution_count": 7,
   "id": "c3b3232d",
   "metadata": {},
   "outputs": [
    {
     "name": "stderr",
     "output_type": "stream",
     "text": [
      "C:\\Users\\uurou\\AppData\\Local\\Temp\\ipykernel_17076\\2351655682.py:1: DtypeWarning: Columns (7) have mixed types. Specify dtype option on import or set low_memory=False.\n",
      "  title_akas = pd.read_csv(aka_url)\n"
     ]
    }
   ],
   "source": [
    "title_akas = pd.read_csv(aka_url)"
   ]
  },
  {
   "cell_type": "markdown",
   "id": "51ffe22e",
   "metadata": {},
   "source": [
    "# Title Basics Filtering/Cleaning Steps"
   ]
  },
  {
   "cell_type": "code",
   "execution_count": 8,
   "id": "ee931c73",
   "metadata": {},
   "outputs": [],
   "source": [
    "# Filter 'title_basics' based on 'title_akas' by tconst and region.\n",
    "us_movies = title_akas[title_akas['region'] == 'US']['titleId']\n",
    "title_basics = title_basics[title_basics['tconst'].isin(us_movies)]"
   ]
  },
  {
   "cell_type": "code",
   "execution_count": 9,
   "id": "3bb43ac9",
   "metadata": {},
   "outputs": [],
   "source": [
    "# Step 2: Replace \"\\N\" with np.nan\n",
    "title_basics = title_basics.replace({'\\\\N':np.nan})"
   ]
  },
  {
   "cell_type": "code",
   "execution_count": 10,
   "id": "2a67a61f",
   "metadata": {},
   "outputs": [],
   "source": [
    "# Step 3: Eliminate movies that are null for runtimeMinutes\n",
    "title_basics = title_basics.dropna(subset=['runtimeMinutes'])"
   ]
  },
  {
   "cell_type": "code",
   "execution_count": 11,
   "id": "a824b309",
   "metadata": {},
   "outputs": [],
   "source": [
    "# Step 4: Eliminate movies that are null for genre\n",
    "title_basics = title_basics.dropna(subset=['genres'])"
   ]
  },
  {
   "cell_type": "code",
   "execution_count": 12,
   "id": "dfb283fd",
   "metadata": {},
   "outputs": [],
   "source": [
    "# Step 5: Keep only titleType==Movie\n",
    "title_basics = title_basics[title_basics['titleType'] == 'movie']"
   ]
  },
  {
   "cell_type": "code",
   "execution_count": 13,
   "id": "b9bfdf64",
   "metadata": {},
   "outputs": [],
   "source": [
    "# Step 6: Convert the startYear column to float data type\n",
    "title_basics['startYear'] = title_basics['startYear'].astype(float)"
   ]
  },
  {
   "cell_type": "code",
   "execution_count": 14,
   "id": "46a90c3f",
   "metadata": {},
   "outputs": [],
   "source": [
    "# Step 7: Filter the dataframe using startYear. Keep years between 2000-2021 (Including 2000 and 2021)\n",
    "title_basics = title_basics[(title_basics['startYear'] >= 2000) & (title_basics['startYear'] <= 2021)]"
   ]
  },
  {
   "cell_type": "code",
   "execution_count": 15,
   "id": "89d140a4",
   "metadata": {},
   "outputs": [],
   "source": [
    "# Step 8: Eliminate movies that include \"Documentary\" in the genre\n",
    "is_documentary = title_basics['genres'].str.contains('documentary', case=False)\n",
    "title_basics = title_basics[~is_documentary]"
   ]
  },
  {
   "cell_type": "code",
   "execution_count": 16,
   "id": "aed9019e",
   "metadata": {},
   "outputs": [
    {
     "name": "stdout",
     "output_type": "stream",
     "text": [
      "<class 'pandas.core.frame.DataFrame'>\n",
      "Int64Index: 81891 entries, 34800 to 10174029\n",
      "Data columns (total 9 columns):\n",
      " #   Column          Non-Null Count  Dtype  \n",
      "---  ------          --------------  -----  \n",
      " 0   tconst          81891 non-null  object \n",
      " 1   titleType       81891 non-null  object \n",
      " 2   primaryTitle    81891 non-null  object \n",
      " 3   originalTitle   81891 non-null  object \n",
      " 4   isAdult         81891 non-null  object \n",
      " 5   startYear       81891 non-null  float64\n",
      " 6   endYear         0 non-null      object \n",
      " 7   runtimeMinutes  81891 non-null  object \n",
      " 8   genres          81891 non-null  object \n",
      "dtypes: float64(1), object(8)\n",
      "memory usage: 6.2+ MB\n"
     ]
    }
   ],
   "source": [
    "title_basics.info()"
   ]
  },
  {
   "cell_type": "code",
   "execution_count": 17,
   "id": "d1993740",
   "metadata": {},
   "outputs": [],
   "source": [
    "## Save current dataframe to file.\n",
    "title_basics.to_csv(\"Data/title_basics.csv.gz\",compression='gzip',index=False)"
   ]
  },
  {
   "cell_type": "markdown",
   "id": "2c5f35c5",
   "metadata": {},
   "source": [
    "# Title Rating Filtering/Cleaning Steps"
   ]
  },
  {
   "cell_type": "code",
   "execution_count": 18,
   "id": "bd3ee2b3",
   "metadata": {},
   "outputs": [],
   "source": [
    "# Step 1: Filter title_ratings based on the 'tconst' values in title_basics\n",
    "# Extract the 'tconst' values from the final 'title_basics' DataFrame\n",
    "valid_tconst_values = title_basics['tconst']"
   ]
  },
  {
   "cell_type": "code",
   "execution_count": 19,
   "id": "52df917e",
   "metadata": {},
   "outputs": [],
   "source": [
    "# Filter 'title_ratings' based on the 'tconst' values\n",
    "title_ratings = title_ratings[title_ratings['tconst'].isin(valid_tconst_values)]"
   ]
  },
  {
   "cell_type": "code",
   "execution_count": 20,
   "id": "965ed721",
   "metadata": {},
   "outputs": [],
   "source": [
    "# Step 2: Replace \"\\N\" with np.nan (if any)\n",
    "title_ratings = title_ratings.replace({'\\\\N':np.nan})"
   ]
  },
  {
   "cell_type": "code",
   "execution_count": 21,
   "id": "eeccdd89",
   "metadata": {},
   "outputs": [
    {
     "name": "stdout",
     "output_type": "stream",
     "text": [
      "<class 'pandas.core.frame.DataFrame'>\n",
      "Int64Index: 68089 entries, 17918 to 1350848\n",
      "Data columns (total 3 columns):\n",
      " #   Column         Non-Null Count  Dtype  \n",
      "---  ------         --------------  -----  \n",
      " 0   tconst         68089 non-null  object \n",
      " 1   averageRating  68089 non-null  float64\n",
      " 2   numVotes       68089 non-null  int64  \n",
      "dtypes: float64(1), int64(1), object(1)\n",
      "memory usage: 2.1+ MB\n"
     ]
    }
   ],
   "source": [
    "title_ratings.info()"
   ]
  },
  {
   "cell_type": "code",
   "execution_count": 22,
   "id": "fe648079",
   "metadata": {},
   "outputs": [],
   "source": [
    "## Save current dataframe to file.\n",
    "title_ratings.to_csv(\"Data/title_ratings.csv.gz\",compression='gzip',index=False)"
   ]
  },
  {
   "cell_type": "markdown",
   "id": "49c19691",
   "metadata": {},
   "source": [
    "# Title Akas Filtering/Cleaning Steps"
   ]
  },
  {
   "cell_type": "code",
   "execution_count": 23,
   "id": "1deef78a",
   "metadata": {},
   "outputs": [
    {
     "name": "stderr",
     "output_type": "stream",
     "text": [
      "C:\\Users\\uurou\\AppData\\Local\\Temp\\ipykernel_17076\\3000111895.py:2: DtypeWarning: Columns (7) have mixed types. Specify dtype option on import or set low_memory=False.\n",
      "  title_akas = pd.read_csv(aka_url)\n"
     ]
    }
   ],
   "source": [
    "# Load the title_akas data set\n",
    "title_akas = pd.read_csv(aka_url)"
   ]
  },
  {
   "cell_type": "code",
   "execution_count": 24,
   "id": "138a4ba0",
   "metadata": {},
   "outputs": [],
   "source": [
    "# Filter the DataFrame to keep only rows where the 'region' column is 'US'.\n",
    "title_akas = title_akas[title_akas['region'] == 'US']"
   ]
  },
  {
   "cell_type": "code",
   "execution_count": 25,
   "id": "4671fac4",
   "metadata": {},
   "outputs": [],
   "source": [
    "# Replace all occurrences of \"\\N\" in the DataFrame with np.nan.\n",
    "title_akas = title_akas.replace({'\\\\N':np.nan}) "
   ]
  },
  {
   "cell_type": "code",
   "execution_count": 26,
   "id": "41ca7821",
   "metadata": {},
   "outputs": [
    {
     "name": "stdout",
     "output_type": "stream",
     "text": [
      "<class 'pandas.core.frame.DataFrame'>\n",
      "Int64Index: 1452564 entries, 0 to 1452563\n",
      "Data columns (total 8 columns):\n",
      " #   Column           Non-Null Count    Dtype \n",
      "---  ------           --------------    ----- \n",
      " 0   titleId          1452564 non-null  object\n",
      " 1   ordering         1452564 non-null  int64 \n",
      " 2   title            1452564 non-null  object\n",
      " 3   region           1452564 non-null  object\n",
      " 4   language         4018 non-null     object\n",
      " 5   types            981678 non-null   object\n",
      " 6   attributes       47016 non-null    object\n",
      " 7   isOriginalTitle  1451222 non-null  object\n",
      "dtypes: int64(1), object(7)\n",
      "memory usage: 99.7+ MB\n"
     ]
    }
   ],
   "source": [
    "title_akas.info()"
   ]
  },
  {
   "cell_type": "code",
   "execution_count": 27,
   "id": "004e95f5",
   "metadata": {},
   "outputs": [],
   "source": [
    "## Save current dataframe to file.\n",
    "title_akas.to_csv(\"Data/title_akas.csv.gz\",compression='gzip',index=False)"
   ]
  },
  {
   "cell_type": "code",
   "execution_count": null,
   "id": "94b13265",
   "metadata": {},
   "outputs": [],
   "source": []
  }
 ],
 "metadata": {
  "kernelspec": {
   "display_name": "Python (dojo-env)",
   "language": "python",
   "name": "dojo-env"
  },
  "language_info": {
   "codemirror_mode": {
    "name": "ipython",
    "version": 3
   },
   "file_extension": ".py",
   "mimetype": "text/x-python",
   "name": "python",
   "nbconvert_exporter": "python",
   "pygments_lexer": "ipython3",
   "version": "3.10.10"
  },
  "toc": {
   "base_numbering": 1,
   "nav_menu": {},
   "number_sections": true,
   "sideBar": true,
   "skip_h1_title": false,
   "title_cell": "Table of Contents",
   "title_sidebar": "Contents",
   "toc_cell": false,
   "toc_position": {
    "height": "calc(100% - 180px)",
    "left": "10px",
    "top": "150px",
    "width": "228.6px"
   },
   "toc_section_display": true,
   "toc_window_display": true
  }
 },
 "nbformat": 4,
 "nbformat_minor": 5
}
