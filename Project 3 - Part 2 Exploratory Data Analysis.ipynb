{
 "cells": [
  {
   "cell_type": "markdown",
   "id": "d3db9b8c",
   "metadata": {},
   "source": [
    "## author: Uday Routhu"
   ]
  },
  {
   "cell_type": "markdown",
   "id": "579e4831",
   "metadata": {},
   "source": [
    "### Project 3 - Part 2 Exploratory Data Analysis"
   ]
  },
  {
   "cell_type": "markdown",
   "id": "63b1984f",
   "metadata": {},
   "source": [
    "### Imports"
   ]
  },
  {
   "cell_type": "code",
   "execution_count": 2,
   "id": "1f5b9fe2",
   "metadata": {},
   "outputs": [
    {
     "data": {
      "text/plain": [
       "['.ipynb_checkpoints',\n",
       " 'final_tmdb_data_2000.csv.gz',\n",
       " 'final_tmdb_data_2001.csv.gz',\n",
       " 'title_akas.csv.gz',\n",
       " 'title_basics.csv.gz',\n",
       " 'title_ratings.csv.gz',\n",
       " 'tmdb_api_results_2000.json',\n",
       " 'tmdb_api_results_2001.json',\n",
       " 'tmdb_results_combined.csv.gz']"
      ]
     },
     "execution_count": 2,
     "metadata": {},
     "output_type": "execute_result"
    }
   ],
   "source": [
    "import os, time,json\n",
    "import tmdbsimple as tmdb \n",
    "import pandas as pd\n",
    "FOLDER = \"Data/\"\n",
    "os.makedirs(FOLDER, exist_ok=True)\n",
    "os.listdir(FOLDER)"
   ]
  },
  {
   "cell_type": "markdown",
   "id": "cb2108cd",
   "metadata": {},
   "source": [
    "#### Load final_tmdb_data_2000.csv.gz"
   ]
  },
  {
   "cell_type": "code",
   "execution_count": 3,
   "id": "7d10728c",
   "metadata": {},
   "outputs": [],
   "source": [
    "# Load JSON file with a specific orientation\n",
    "df1_2000 = pd.read_csv('Data/final_tmdb_data_2000.csv.gz')"
   ]
  },
  {
   "cell_type": "code",
   "execution_count": 4,
   "id": "3248fa2b",
   "metadata": {},
   "outputs": [],
   "source": [
    "df1_2000 = df1_2000.iloc[1:]"
   ]
  },
  {
   "cell_type": "code",
   "execution_count": 5,
   "id": "08d67371",
   "metadata": {},
   "outputs": [
    {
     "name": "stdout",
     "output_type": "stream",
     "text": [
      "<class 'pandas.core.frame.DataFrame'>\n",
      "RangeIndex: 1458 entries, 1 to 1458\n",
      "Data columns (total 26 columns):\n",
      " #   Column                 Non-Null Count  Dtype  \n",
      "---  ------                 --------------  -----  \n",
      " 0   imdb_id                1458 non-null   object \n",
      " 1   adult                  1458 non-null   float64\n",
      " 2   backdrop_path          1458 non-null   object \n",
      " 3   belongs_to_collection  0 non-null      float64\n",
      " 4   budget                 1458 non-null   float64\n",
      " 5   genres                 1458 non-null   object \n",
      " 6   homepage               1458 non-null   object \n",
      " 7   id                     1458 non-null   float64\n",
      " 8   original_language      1458 non-null   object \n",
      " 9   original_title         1458 non-null   object \n",
      " 10  overview               1458 non-null   object \n",
      " 11  popularity             1458 non-null   float64\n",
      " 12  poster_path            1458 non-null   object \n",
      " 13  production_companies   1458 non-null   object \n",
      " 14  production_countries   1458 non-null   object \n",
      " 15  release_date           1458 non-null   object \n",
      " 16  revenue                1458 non-null   float64\n",
      " 17  runtime                1458 non-null   float64\n",
      " 18  spoken_languages       1458 non-null   object \n",
      " 19  status                 1458 non-null   object \n",
      " 20  tagline                1458 non-null   object \n",
      " 21  title                  1458 non-null   object \n",
      " 22  video                  1458 non-null   float64\n",
      " 23  vote_average           1458 non-null   float64\n",
      " 24  vote_count             1458 non-null   float64\n",
      " 25  certification          1458 non-null   object \n",
      "dtypes: float64(10), object(16)\n",
      "memory usage: 296.3+ KB\n"
     ]
    }
   ],
   "source": [
    "df1_2000.info()"
   ]
  },
  {
   "cell_type": "markdown",
   "id": "ace6461f",
   "metadata": {},
   "source": [
    "#### Load final_tmdb_data_2001.csv.gz"
   ]
  },
  {
   "cell_type": "code",
   "execution_count": 6,
   "id": "03e2192a",
   "metadata": {},
   "outputs": [],
   "source": [
    "# Load JSON file with a specific orientation\n",
    "df2_2001 = pd.read_csv('Data/final_tmdb_data_2001.csv.gz')"
   ]
  },
  {
   "cell_type": "code",
   "execution_count": 7,
   "id": "42373644",
   "metadata": {},
   "outputs": [],
   "source": [
    "df2_2001 = df2_2001.iloc[1:]"
   ]
  },
  {
   "cell_type": "code",
   "execution_count": 8,
   "id": "51e4638e",
   "metadata": {},
   "outputs": [
    {
     "name": "stdout",
     "output_type": "stream",
     "text": [
      "<class 'pandas.core.frame.DataFrame'>\n",
      "RangeIndex: 1577 entries, 1 to 1577\n",
      "Data columns (total 26 columns):\n",
      " #   Column                 Non-Null Count  Dtype  \n",
      "---  ------                 --------------  -----  \n",
      " 0   imdb_id                1577 non-null   object \n",
      " 1   adult                  1577 non-null   float64\n",
      " 2   backdrop_path          1577 non-null   object \n",
      " 3   belongs_to_collection  0 non-null      float64\n",
      " 4   budget                 1577 non-null   float64\n",
      " 5   genres                 1577 non-null   object \n",
      " 6   homepage               1577 non-null   object \n",
      " 7   id                     1577 non-null   float64\n",
      " 8   original_language      1577 non-null   object \n",
      " 9   original_title         1577 non-null   object \n",
      " 10  overview               1577 non-null   object \n",
      " 11  popularity             1577 non-null   float64\n",
      " 12  poster_path            1577 non-null   object \n",
      " 13  production_companies   1577 non-null   object \n",
      " 14  production_countries   1577 non-null   object \n",
      " 15  release_date           1577 non-null   object \n",
      " 16  revenue                1577 non-null   float64\n",
      " 17  runtime                1577 non-null   float64\n",
      " 18  spoken_languages       1577 non-null   object \n",
      " 19  status                 1577 non-null   object \n",
      " 20  tagline                1577 non-null   object \n",
      " 21  title                  1577 non-null   object \n",
      " 22  video                  1577 non-null   float64\n",
      " 23  vote_average           1577 non-null   float64\n",
      " 24  vote_count             1577 non-null   float64\n",
      " 25  certification          1577 non-null   object \n",
      "dtypes: float64(10), object(16)\n",
      "memory usage: 320.5+ KB\n"
     ]
    }
   ],
   "source": [
    "df2_2001.info()"
   ]
  },
  {
   "cell_type": "markdown",
   "id": "c08a5b64",
   "metadata": {},
   "source": [
    "#### Concatenate the data into 1 dataframe for the remainder of the analysis"
   ]
  },
  {
   "cell_type": "code",
   "execution_count": 9,
   "id": "3bc9a1a5",
   "metadata": {},
   "outputs": [],
   "source": [
    "# Assuming df1_2000 and df2_2001 are your DataFrames\n",
    "combined_df = pd.concat([df1_2000, df2_2001], ignore_index=True)"
   ]
  },
  {
   "cell_type": "code",
   "execution_count": 10,
   "id": "f44431e0",
   "metadata": {},
   "outputs": [
    {
     "name": "stdout",
     "output_type": "stream",
     "text": [
      "<class 'pandas.core.frame.DataFrame'>\n",
      "RangeIndex: 3035 entries, 0 to 3034\n",
      "Data columns (total 26 columns):\n",
      " #   Column                 Non-Null Count  Dtype  \n",
      "---  ------                 --------------  -----  \n",
      " 0   imdb_id                3035 non-null   object \n",
      " 1   adult                  3035 non-null   float64\n",
      " 2   backdrop_path          3035 non-null   object \n",
      " 3   belongs_to_collection  0 non-null      float64\n",
      " 4   budget                 3035 non-null   float64\n",
      " 5   genres                 3035 non-null   object \n",
      " 6   homepage               3035 non-null   object \n",
      " 7   id                     3035 non-null   float64\n",
      " 8   original_language      3035 non-null   object \n",
      " 9   original_title         3035 non-null   object \n",
      " 10  overview               3035 non-null   object \n",
      " 11  popularity             3035 non-null   float64\n",
      " 12  poster_path            3035 non-null   object \n",
      " 13  production_companies   3035 non-null   object \n",
      " 14  production_countries   3035 non-null   object \n",
      " 15  release_date           3035 non-null   object \n",
      " 16  revenue                3035 non-null   float64\n",
      " 17  runtime                3035 non-null   float64\n",
      " 18  spoken_languages       3035 non-null   object \n",
      " 19  status                 3035 non-null   object \n",
      " 20  tagline                3035 non-null   object \n",
      " 21  title                  3035 non-null   object \n",
      " 22  video                  3035 non-null   float64\n",
      " 23  vote_average           3035 non-null   float64\n",
      " 24  vote_count             3035 non-null   float64\n",
      " 25  certification          3035 non-null   object \n",
      "dtypes: float64(10), object(16)\n",
      "memory usage: 616.6+ KB\n"
     ]
    }
   ],
   "source": [
    "combined_df.info()"
   ]
  },
  {
   "cell_type": "code",
   "execution_count": 11,
   "id": "a7a9b9a4",
   "metadata": {},
   "outputs": [
    {
     "name": "stdout",
     "output_type": "stream",
     "text": [
      "Number of movies with valid financial information: 3035\n"
     ]
    }
   ],
   "source": [
    "# Filter out movies with non-zero budget OR non-zero revenue\n",
    "valid_financial_movies = combined_df[(combined_df['budget'] > 0) | (combined_df['revenue'] > 0)]\n",
    "\n",
    "# Count the number of movies with valid financial information\n",
    "num_valid_financial_movies = len(valid_financial_movies)\n",
    "\n",
    "print(\"Number of movies with valid financial information:\", num_valid_financial_movies)"
   ]
  },
  {
   "cell_type": "code",
   "execution_count": 12,
   "id": "6b800b83",
   "metadata": {},
   "outputs": [
    {
     "name": "stdout",
     "output_type": "stream",
     "text": [
      "Count of Movies per Certification Category:\n",
      " PG    3035\n",
      "Name: certification, dtype: int64\n"
     ]
    }
   ],
   "source": [
    "# Count of movies per certification category\n",
    "certification_counts = combined_df['certification'].value_counts()\n",
    "print(\"Count of Movies per Certification Category:\\n\", certification_counts)"
   ]
  },
  {
   "cell_type": "code",
   "execution_count": 13,
   "id": "298c1691",
   "metadata": {},
   "outputs": [
    {
     "name": "stdout",
     "output_type": "stream",
     "text": [
      "Average Budget per Certification Category:\n",
      " certification\n",
      "PG    50000000.0\n",
      "Name: budget, dtype: float64\n"
     ]
    }
   ],
   "source": [
    "# Group by certification category and calculate average budget\n",
    "avg_budget_by_cert = combined_df.groupby('certification')['budget'].mean()\n",
    "print(\"Average Budget per Certification Category:\\n\", avg_budget_by_cert)"
   ]
  },
  {
   "cell_type": "code",
   "execution_count": 14,
   "id": "3287ed45",
   "metadata": {},
   "outputs": [
    {
     "name": "stdout",
     "output_type": "stream",
     "text": [
      "certification\n",
      "PG    50000000.0\n",
      "Name: budget, dtype: float64\n"
     ]
    }
   ],
   "source": [
    "average_budget_by_certification = combined_df.groupby('certification')['budget'].mean()\n",
    "print(average_budget_by_certification)"
   ]
  },
  {
   "cell_type": "markdown",
   "id": "3fc7dbd8",
   "metadata": {},
   "source": [
    "#### The file name should be \"tmdb_results_combined.csv.gz\""
   ]
  },
  {
   "cell_type": "code",
   "execution_count": null,
   "id": "f8b539b9",
   "metadata": {},
   "outputs": [],
   "source": [
    "combined_df.to_csv('Data/tmdb_results_combined.csv.gz', compression='gzip', index=False)"
   ]
  }
 ],
 "metadata": {
  "kernelspec": {
   "display_name": "Python 3 (ipykernel)",
   "language": "python",
   "name": "python3"
  },
  "language_info": {
   "codemirror_mode": {
    "name": "ipython",
    "version": 3
   },
   "file_extension": ".py",
   "mimetype": "text/x-python",
   "name": "python",
   "nbconvert_exporter": "python",
   "pygments_lexer": "ipython3",
   "version": "3.10.10"
  }
 },
 "nbformat": 4,
 "nbformat_minor": 5
}
